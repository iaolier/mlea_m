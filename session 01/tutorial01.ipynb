{
 "cells": [
  {
   "cell_type": "markdown",
   "metadata": {
    "id": "08yO7t-kTy8N"
   },
   "source": [
    "# Lab session 01 - Introduction to Machine Learning in Python\n",
    "by Dr Ivan Olier\n",
    "\n",
    "\n",
    "## Introduction\n",
    "For the following questions you should review your knowledge of Python. You can follow this link to an extensive tutorial on how to program with Python: https://python.swaroopch.com/\n",
    "In addition, you can find on Teams a Python tutorial as a Juptyer Notebook. You can open this tutorial on Google Colab (colab.research.google.com) and follow it step-by-step. \n",
    "\n",
    "## Exercise 1\n",
    "\n",
    "- Implement a Python function that estimates the coefficients β of a multivariate linear regression model.\n",
    "- Use the implemented function to estimate the parameters (β) for the following training dataset:\n",
    "\n",
    "|row|X1|X2|y|\n",
    "|-----|-------|------|----|\n",
    "|1|0.1|2.2|5.4|\n",
    "|2|0.9|3.9|4.1|\n",
    "|3|2.1|6.1|2.9|\n",
    "|4|2.7|7.7|1.1|\n",
    "|5|4.2|10.3|0.3|\n",
    "\n",
    "- Implement a small code in Python that estimates the performance metrics studied in the lecture (i.e., RSS, RSE, R2, MSE, and RMSE) of the above multiple linear regression model.\n",
    "\n",
    "### Solution\n"
   ]
  },
  {
   "cell_type": "code",
   "execution_count": null,
   "metadata": {},
   "outputs": [],
   "source": [
    "import numpy as np"
   ]
  },
  {
   "cell_type": "code",
   "execution_count": null,
   "metadata": {},
   "outputs": [],
   "source": [
    "# implements part a) -> function to estimate MLR coeffcients (betas): beta = (Xt*X)^-1*Xt*y\n",
    "from numpy.linalg import inv  # inverse matrix function\n",
    "def mlr_coeff(X,y):  \n",
    "    X = np.c_[np.ones(len(X)), X]  # append 1s column (beta0)\n",
    "    return inv((X.T) @ X) @ X.T @ y"
   ]
  },
  {
   "cell_type": "code",
   "execution_count": null,
   "metadata": {},
   "outputs": [],
   "source": [
    "Xtrain = np.array([[0.1, 2.2],\n",
    "                   [0.9, 3.9],\n",
    "                   [2.1, 6.1],\n",
    "                   [2.7, 7.7],\n",
    "                   [4.2, 10.3]])\n",
    "Xtrain"
   ]
  },
  {
   "cell_type": "code",
   "execution_count": null,
   "metadata": {},
   "outputs": [],
   "source": [
    "ytrain = np.array([[5.4, 4.1, 2.9, 1.1, 0.3]]).T\n",
    "ytrain"
   ]
  },
  {
   "cell_type": "code",
   "execution_count": null,
   "metadata": {},
   "outputs": [],
   "source": [
    "Beta = mlr_coeff(Xtrain,ytrain)\n",
    "Beta"
   ]
  },
  {
   "cell_type": "code",
   "execution_count": null,
   "metadata": {},
   "outputs": [],
   "source": [
    "def mlr_predict(BETA, Xnew):\n",
    "    Xnew = np.c_[np.ones(len(Xnew)), Xnew]\n",
    "    return Xnew @ BETA"
   ]
  },
  {
   "cell_type": "code",
   "execution_count": null,
   "metadata": {},
   "outputs": [],
   "source": [
    "y_pred = mlr_predict(BETA=Beta, Xnew=Xtrain)\n",
    "y_pred"
   ]
  },
  {
   "cell_type": "code",
   "execution_count": null,
   "metadata": {},
   "outputs": [],
   "source": [
    "def mlr_scores(y_true, y_pred):\n",
    "    err = y_true - y_pred\n",
    "    RSS = ( err.T @  err ).item(0) # RSS is still an array. converts to scalar with `item`\n",
    "    n = len(y_true)\n",
    "    RSE = np.sqrt(RSS/(n-2))\n",
    "    ybar = np.mean(y_true)\n",
    "    R2 = ( 1 - RSS / ( (y_true - ybar).T @ (y_true - ybar) ) ).item(0)\n",
    "    MSE = RSS/n\n",
    "    RMSE = np.sqrt(MSE)\n",
    "    return RSS, RSE, R2, MSE, RMSE"
   ]
  },
  {
   "cell_type": "code",
   "execution_count": null,
   "metadata": {},
   "outputs": [],
   "source": [
    "RSS, RSE, R2, MSE, RMSE = mlr_scores(y_true=ytrain, y_pred=y_pred)\n",
    "print(\"RSS = \", RSS)\n",
    "print(\"RSE = \", RSE)\n",
    "print(\"R2 = \", R2)\n",
    "print(\"RMSE = \", RMSE)"
   ]
  },
  {
   "cell_type": "markdown",
   "metadata": {},
   "source": [
    "\n",
    "\n",
    "## Exercise 2\n",
    "Let assume a logistic regression model for the gestational diabetes (see lecture slides) with coefficients:\n",
    "\n",
    "|Coefficient|Value|\n",
    "|----|---|\n",
    "|(Intercept)|-10.96|\n",
    "|Pregnancies|0.18|\n",
    "|Glucose|0.04|\n",
    "|BloodPressure|0.005|\n",
    "|SkinThickness|-0.008|\n",
    "|Insulin|0.002|\n",
    "|BMI|0.118|\n",
    "|DiabetesPedigreeFunction|1.71|\n",
    "|Age|-0.004|\n",
    "\n",
    "- Write a piece of code in Python that implements a function that takes in an individual test data observation (X) and outputs its predicted probability (P(X)). \n",
    "- Use your implemented function to predict the risk of developing diabetes. You can test a few observations taken from the lecture slides. \n",
    "\n",
    "### Solution"
   ]
  },
  {
   "cell_type": "code",
   "execution_count": null,
   "metadata": {
    "executionInfo": {
     "elapsed": 617,
     "status": "ok",
     "timestamp": 1611362974435,
     "user": {
      "displayName": "Ivan Olier",
      "photoUrl": "https://lh3.googleusercontent.com/a-/AOh14Ghhc43rCdJQCTYC4YLpmINvtt8oV3l1YxXoQwMIxA=s64",
      "userId": "02135770244195566463"
     },
     "user_tz": 0
    },
    "id": "58EJC1J2lFeM"
   },
   "outputs": [],
   "source": [
    "def pred_prob(X):\n",
    "  betas = np.array([0.18, 0.04, 0.005, -0.008, 0.002, 0.118, 1.71, -0.004])\n",
    "  bx = -10.96 + X @ betas\n",
    "  return(np.exp(bx)/(1+np.exp(bx)))"
   ]
  },
  {
   "cell_type": "code",
   "execution_count": null,
   "metadata": {},
   "outputs": [],
   "source": [
    "\n",
    "X = np.array([[6, 148, 72, 35, 0, 33.6, 0.627, 50],\n",
    "              [1, 85, 66, 29, 0, 26.6, 0.351, 31],\n",
    "              [8, 183, 64, 0, 0, 23.3, 0.672, 32]])\n",
    "\n",
    "pred_prob(X)"
   ]
  },
  {
   "cell_type": "markdown",
   "metadata": {},
   "source": [
    "\n",
    "## Exercise 3\n",
    "We will use logistic regression to produce a classification model for *gestational diabetes*. The classification task will be to predict the condition in pregnant women, or in other words, to classify pregnant women suffering the condition from healthy women. The *pima indians diabetes database* will be used, which is publicly availble. It is also available under the following link:\n",
    "https://raw.githubusercontent.com/iaolier/7021DATSCI/main/data/diabetes.csv\n",
    "\n",
    "- Load the “diabetes.csv” into a Python’s Pandas data frame\n",
    "- Report # of variables, # of observations, and # of missing values\n",
    "- Explore all the variables by producing histograms and detect possible outliers, suspicious values, etc.\n",
    "- Drop any row/column with suspicious values\n",
    "- Split the data into training and test subsets\n",
    "- Train a logistic regression model using the training subset\n",
    "- Predict the risk of developing diabetes using the test subset.\n",
    "- Compare the predicted probabilities with the ones estimated in Exercise 2.\n",
    "- Plot the ROC and PR curves.\n",
    "- Estimate AUROC and AUPR values. \n",
    "- Explain the quality of the model performance.\n",
    "\n",
    "### Solution\n"
   ]
  },
  {
   "cell_type": "code",
   "execution_count": null,
   "metadata": {
    "executionInfo": {
     "elapsed": 819,
     "status": "ok",
     "timestamp": 1611588812127,
     "user": {
      "displayName": "Ivan Olier",
      "photoUrl": "https://lh3.googleusercontent.com/a-/AOh14Ghhc43rCdJQCTYC4YLpmINvtt8oV3l1YxXoQwMIxA=s64",
      "userId": "02135770244195566463"
     },
     "user_tz": 0
    },
    "id": "-7Wb0ojNTy8Z"
   },
   "outputs": [],
   "source": [
    "# Import useful libraries \n",
    "import pandas as pd     # to handle data frames\n",
    "import numpy as np      # to manipulate matrices/vectors\n",
    "import matplotlib.pyplot as plt     # to generate plots\n",
    "\n",
    "# to allow for plots in notebooks\n",
    "%matplotlib inline  "
   ]
  },
  {
   "cell_type": "code",
   "execution_count": null,
   "metadata": {
    "colab": {
     "base_uri": "https://localhost:8080/",
     "height": 204
    },
    "executionInfo": {
     "elapsed": 1346,
     "status": "ok",
     "timestamp": 1611581371529,
     "user": {
      "displayName": "Ivan Olier",
      "photoUrl": "https://lh3.googleusercontent.com/a-/AOh14Ghhc43rCdJQCTYC4YLpmINvtt8oV3l1YxXoQwMIxA=s64",
      "userId": "02135770244195566463"
     },
     "user_tz": 0
    },
    "id": "B5WUU5hHTy8b",
    "outputId": "9e093b53-0838-40b0-aa07-89ad2b705a24"
   },
   "outputs": [],
   "source": [
    "# \"diabetes.csv\": following below link to the dataset\n",
    "dset = pd.read_csv(\"https://raw.githubusercontent.com/iaolier/7021DATSCI/main/data/diabetes.csv\")  # reads csv files\n",
    "dset.head() # shows the top rows of data"
   ]
  },
  {
   "cell_type": "code",
   "execution_count": null,
   "metadata": {
    "colab": {
     "base_uri": "https://localhost:8080/",
     "height": 259,
     "resources": {
      "http://localhost:8080/nbextensions/google.colab/files.js": {
       "data": "Ly8gQ29weXJpZ2h0IDIwMTcgR29vZ2xlIExMQwovLwovLyBMaWNlbnNlZCB1bmRlciB0aGUgQXBhY2hlIExpY2Vuc2UsIFZlcnNpb24gMi4wICh0aGUgIkxpY2Vuc2UiKTsKLy8geW91IG1heSBub3QgdXNlIHRoaXMgZmlsZSBleGNlcHQgaW4gY29tcGxpYW5jZSB3aXRoIHRoZSBMaWNlbnNlLgovLyBZb3UgbWF5IG9idGFpbiBhIGNvcHkgb2YgdGhlIExpY2Vuc2UgYXQKLy8KLy8gICAgICBodHRwOi8vd3d3LmFwYWNoZS5vcmcvbGljZW5zZXMvTElDRU5TRS0yLjAKLy8KLy8gVW5sZXNzIHJlcXVpcmVkIGJ5IGFwcGxpY2FibGUgbGF3IG9yIGFncmVlZCB0byBpbiB3cml0aW5nLCBzb2Z0d2FyZQovLyBkaXN0cmlidXRlZCB1bmRlciB0aGUgTGljZW5zZSBpcyBkaXN0cmlidXRlZCBvbiBhbiAiQVMgSVMiIEJBU0lTLAovLyBXSVRIT1VUIFdBUlJBTlRJRVMgT1IgQ09ORElUSU9OUyBPRiBBTlkgS0lORCwgZWl0aGVyIGV4cHJlc3Mgb3IgaW1wbGllZC4KLy8gU2VlIHRoZSBMaWNlbnNlIGZvciB0aGUgc3BlY2lmaWMgbGFuZ3VhZ2UgZ292ZXJuaW5nIHBlcm1pc3Npb25zIGFuZAovLyBsaW1pdGF0aW9ucyB1bmRlciB0aGUgTGljZW5zZS4KCi8qKgogKiBAZmlsZW92ZXJ2aWV3IEhlbHBlcnMgZm9yIGdvb2dsZS5jb2xhYiBQeXRob24gbW9kdWxlLgogKi8KKGZ1bmN0aW9uKHNjb3BlKSB7CmZ1bmN0aW9uIHNwYW4odGV4dCwgc3R5bGVBdHRyaWJ1dGVzID0ge30pIHsKICBjb25zdCBlbGVtZW50ID0gZG9jdW1lbnQuY3JlYXRlRWxlbWVudCgnc3BhbicpOwogIGVsZW1lbnQudGV4dENvbnRlbnQgPSB0ZXh0OwogIGZvciAoY29uc3Qga2V5IG9mIE9iamVjdC5rZXlzKHN0eWxlQXR0cmlidXRlcykpIHsKICAgIGVsZW1lbnQuc3R5bGVba2V5XSA9IHN0eWxlQXR0cmlidXRlc1trZXldOwogIH0KICByZXR1cm4gZWxlbWVudDsKfQoKLy8gTWF4IG51bWJlciBvZiBieXRlcyB3aGljaCB3aWxsIGJlIHVwbG9hZGVkIGF0IGEgdGltZS4KY29uc3QgTUFYX1BBWUxPQURfU0laRSA9IDEwMCAqIDEwMjQ7CgpmdW5jdGlvbiBfdXBsb2FkRmlsZXMoaW5wdXRJZCwgb3V0cHV0SWQpIHsKICBjb25zdCBzdGVwcyA9IHVwbG9hZEZpbGVzU3RlcChpbnB1dElkLCBvdXRwdXRJZCk7CiAgY29uc3Qgb3V0cHV0RWxlbWVudCA9IGRvY3VtZW50LmdldEVsZW1lbnRCeUlkKG91dHB1dElkKTsKICAvLyBDYWNoZSBzdGVwcyBvbiB0aGUgb3V0cHV0RWxlbWVudCB0byBtYWtlIGl0IGF2YWlsYWJsZSBmb3IgdGhlIG5leHQgY2FsbAogIC8vIHRvIHVwbG9hZEZpbGVzQ29udGludWUgZnJvbSBQeXRob24uCiAgb3V0cHV0RWxlbWVudC5zdGVwcyA9IHN0ZXBzOwoKICByZXR1cm4gX3VwbG9hZEZpbGVzQ29udGludWUob3V0cHV0SWQpOwp9CgovLyBUaGlzIGlzIHJvdWdobHkgYW4gYXN5bmMgZ2VuZXJhdG9yIChub3Qgc3VwcG9ydGVkIGluIHRoZSBicm93c2VyIHlldCksCi8vIHdoZXJlIHRoZXJlIGFyZSBtdWx0aXBsZSBhc3luY2hyb25vdXMgc3RlcHMgYW5kIHRoZSBQeXRob24gc2lkZSBpcyBnb2luZwovLyB0byBwb2xsIGZvciBjb21wbGV0aW9uIG9mIGVhY2ggc3RlcC4KLy8gVGhpcyB1c2VzIGEgUHJvbWlzZSB0byBibG9jayB0aGUgcHl0aG9uIHNpZGUgb24gY29tcGxldGlvbiBvZiBlYWNoIHN0ZXAsCi8vIHRoZW4gcGFzc2VzIHRoZSByZXN1bHQgb2YgdGhlIHByZXZpb3VzIHN0ZXAgYXMgdGhlIGlucHV0IHRvIHRoZSBuZXh0IHN0ZXAuCmZ1bmN0aW9uIF91cGxvYWRGaWxlc0NvbnRpbnVlKG91dHB1dElkKSB7CiAgY29uc3Qgb3V0cHV0RWxlbWVudCA9IGRvY3VtZW50LmdldEVsZW1lbnRCeUlkKG91dHB1dElkKTsKICBjb25zdCBzdGVwcyA9IG91dHB1dEVsZW1lbnQuc3RlcHM7CgogIGNvbnN0IG5leHQgPSBzdGVwcy5uZXh0KG91dHB1dEVsZW1lbnQubGFzdFByb21pc2VWYWx1ZSk7CiAgcmV0dXJuIFByb21pc2UucmVzb2x2ZShuZXh0LnZhbHVlLnByb21pc2UpLnRoZW4oKHZhbHVlKSA9PiB7CiAgICAvLyBDYWNoZSB0aGUgbGFzdCBwcm9taXNlIHZhbHVlIHRvIG1ha2UgaXQgYXZhaWxhYmxlIHRvIHRoZSBuZXh0CiAgICAvLyBzdGVwIG9mIHRoZSBnZW5lcmF0b3IuCiAgICBvdXRwdXRFbGVtZW50Lmxhc3RQcm9taXNlVmFsdWUgPSB2YWx1ZTsKICAgIHJldHVybiBuZXh0LnZhbHVlLnJlc3BvbnNlOwogIH0pOwp9CgovKioKICogR2VuZXJhdG9yIGZ1bmN0aW9uIHdoaWNoIGlzIGNhbGxlZCBiZXR3ZWVuIGVhY2ggYXN5bmMgc3RlcCBvZiB0aGUgdXBsb2FkCiAqIHByb2Nlc3MuCiAqIEBwYXJhbSB7c3RyaW5nfSBpbnB1dElkIEVsZW1lbnQgSUQgb2YgdGhlIGlucHV0IGZpbGUgcGlja2VyIGVsZW1lbnQuCiAqIEBwYXJhbSB7c3RyaW5nfSBvdXRwdXRJZCBFbGVtZW50IElEIG9mIHRoZSBvdXRwdXQgZGlzcGxheS4KICogQHJldHVybiB7IUl0ZXJhYmxlPCFPYmplY3Q+fSBJdGVyYWJsZSBvZiBuZXh0IHN0ZXBzLgogKi8KZnVuY3Rpb24qIHVwbG9hZEZpbGVzU3RlcChpbnB1dElkLCBvdXRwdXRJZCkgewogIGNvbnN0IGlucHV0RWxlbWVudCA9IGRvY3VtZW50LmdldEVsZW1lbnRCeUlkKGlucHV0SWQpOwogIGlucHV0RWxlbWVudC5kaXNhYmxlZCA9IGZhbHNlOwoKICBjb25zdCBvdXRwdXRFbGVtZW50ID0gZG9jdW1lbnQuZ2V0RWxlbWVudEJ5SWQob3V0cHV0SWQpOwogIG91dHB1dEVsZW1lbnQuaW5uZXJIVE1MID0gJyc7CgogIGNvbnN0IHBpY2tlZFByb21pc2UgPSBuZXcgUHJvbWlzZSgocmVzb2x2ZSkgPT4gewogICAgaW5wdXRFbGVtZW50LmFkZEV2ZW50TGlzdGVuZXIoJ2NoYW5nZScsIChlKSA9PiB7CiAgICAgIHJlc29sdmUoZS50YXJnZXQuZmlsZXMpOwogICAgfSk7CiAgfSk7CgogIGNvbnN0IGNhbmNlbCA9IGRvY3VtZW50LmNyZWF0ZUVsZW1lbnQoJ2J1dHRvbicpOwogIGlucHV0RWxlbWVudC5wYXJlbnRFbGVtZW50LmFwcGVuZENoaWxkKGNhbmNlbCk7CiAgY2FuY2VsLnRleHRDb250ZW50ID0gJ0NhbmNlbCB1cGxvYWQnOwogIGNvbnN0IGNhbmNlbFByb21pc2UgPSBuZXcgUHJvbWlzZSgocmVzb2x2ZSkgPT4gewogICAgY2FuY2VsLm9uY2xpY2sgPSAoKSA9PiB7CiAgICAgIHJlc29sdmUobnVsbCk7CiAgICB9OwogIH0pOwoKICAvLyBXYWl0IGZvciB0aGUgdXNlciB0byBwaWNrIHRoZSBmaWxlcy4KICBjb25zdCBmaWxlcyA9IHlpZWxkIHsKICAgIHByb21pc2U6IFByb21pc2UucmFjZShbcGlja2VkUHJvbWlzZSwgY2FuY2VsUHJvbWlzZV0pLAogICAgcmVzcG9uc2U6IHsKICAgICAgYWN0aW9uOiAnc3RhcnRpbmcnLAogICAgfQogIH07CgogIGNhbmNlbC5yZW1vdmUoKTsKCiAgLy8gRGlzYWJsZSB0aGUgaW5wdXQgZWxlbWVudCBzaW5jZSBmdXJ0aGVyIHBpY2tzIGFyZSBub3QgYWxsb3dlZC4KICBpbnB1dEVsZW1lbnQuZGlzYWJsZWQgPSB0cnVlOwoKICBpZiAoIWZpbGVzKSB7CiAgICByZXR1cm4gewogICAgICByZXNwb25zZTogewogICAgICAgIGFjdGlvbjogJ2NvbXBsZXRlJywKICAgICAgfQogICAgfTsKICB9CgogIGZvciAoY29uc3QgZmlsZSBvZiBmaWxlcykgewogICAgY29uc3QgbGkgPSBkb2N1bWVudC5jcmVhdGVFbGVtZW50KCdsaScpOwogICAgbGkuYXBwZW5kKHNwYW4oZmlsZS5uYW1lLCB7Zm9udFdlaWdodDogJ2JvbGQnfSkpOwogICAgbGkuYXBwZW5kKHNwYW4oCiAgICAgICAgYCgke2ZpbGUudHlwZSB8fCAnbi9hJ30pIC0gJHtmaWxlLnNpemV9IGJ5dGVzLCBgICsKICAgICAgICBgbGFzdCBtb2RpZmllZDogJHsKICAgICAgICAgICAgZmlsZS5sYXN0TW9kaWZpZWREYXRlID8gZmlsZS5sYXN0TW9kaWZpZWREYXRlLnRvTG9jYWxlRGF0ZVN0cmluZygpIDoKICAgICAgICAgICAgICAgICAgICAgICAgICAgICAgICAgICAgJ24vYSd9IC0gYCkpOwogICAgY29uc3QgcGVyY2VudCA9IHNwYW4oJzAlIGRvbmUnKTsKICAgIGxpLmFwcGVuZENoaWxkKHBlcmNlbnQpOwoKICAgIG91dHB1dEVsZW1lbnQuYXBwZW5kQ2hpbGQobGkpOwoKICAgIGNvbnN0IGZpbGVEYXRhUHJvbWlzZSA9IG5ldyBQcm9taXNlKChyZXNvbHZlKSA9PiB7CiAgICAgIGNvbnN0IHJlYWRlciA9IG5ldyBGaWxlUmVhZGVyKCk7CiAgICAgIHJlYWRlci5vbmxvYWQgPSAoZSkgPT4gewogICAgICAgIHJlc29sdmUoZS50YXJnZXQucmVzdWx0KTsKICAgICAgfTsKICAgICAgcmVhZGVyLnJlYWRBc0FycmF5QnVmZmVyKGZpbGUpOwogICAgfSk7CiAgICAvLyBXYWl0IGZvciB0aGUgZGF0YSB0byBiZSByZWFkeS4KICAgIGxldCBmaWxlRGF0YSA9IHlpZWxkIHsKICAgICAgcHJvbWlzZTogZmlsZURhdGFQcm9taXNlLAogICAgICByZXNwb25zZTogewogICAgICAgIGFjdGlvbjogJ2NvbnRpbnVlJywKICAgICAgfQogICAgfTsKCiAgICAvLyBVc2UgYSBjaHVua2VkIHNlbmRpbmcgdG8gYXZvaWQgbWVzc2FnZSBzaXplIGxpbWl0cy4gU2VlIGIvNjIxMTU2NjAuCiAgICBsZXQgcG9zaXRpb24gPSAwOwogICAgd2hpbGUgKHBvc2l0aW9uIDwgZmlsZURhdGEuYnl0ZUxlbmd0aCkgewogICAgICBjb25zdCBsZW5ndGggPSBNYXRoLm1pbihmaWxlRGF0YS5ieXRlTGVuZ3RoIC0gcG9zaXRpb24sIE1BWF9QQVlMT0FEX1NJWkUpOwogICAgICBjb25zdCBjaHVuayA9IG5ldyBVaW50OEFycmF5KGZpbGVEYXRhLCBwb3NpdGlvbiwgbGVuZ3RoKTsKICAgICAgcG9zaXRpb24gKz0gbGVuZ3RoOwoKICAgICAgY29uc3QgYmFzZTY0ID0gYnRvYShTdHJpbmcuZnJvbUNoYXJDb2RlLmFwcGx5KG51bGwsIGNodW5rKSk7CiAgICAgIHlpZWxkIHsKICAgICAgICByZXNwb25zZTogewogICAgICAgICAgYWN0aW9uOiAnYXBwZW5kJywKICAgICAgICAgIGZpbGU6IGZpbGUubmFtZSwKICAgICAgICAgIGRhdGE6IGJhc2U2NCwKICAgICAgICB9LAogICAgICB9OwogICAgICBwZXJjZW50LnRleHRDb250ZW50ID0KICAgICAgICAgIGAke01hdGgucm91bmQoKHBvc2l0aW9uIC8gZmlsZURhdGEuYnl0ZUxlbmd0aCkgKiAxMDApfSUgZG9uZWA7CiAgICB9CiAgfQoKICAvLyBBbGwgZG9uZS4KICB5aWVsZCB7CiAgICByZXNwb25zZTogewogICAgICBhY3Rpb246ICdjb21wbGV0ZScsCiAgICB9CiAgfTsKfQoKc2NvcGUuZ29vZ2xlID0gc2NvcGUuZ29vZ2xlIHx8IHt9OwpzY29wZS5nb29nbGUuY29sYWIgPSBzY29wZS5nb29nbGUuY29sYWIgfHwge307CnNjb3BlLmdvb2dsZS5jb2xhYi5fZmlsZXMgPSB7CiAgX3VwbG9hZEZpbGVzLAogIF91cGxvYWRGaWxlc0NvbnRpbnVlLAp9Owp9KShzZWxmKTsK",
       "headers": [
        [
         "content-type",
         "application/javascript"
        ]
       ],
       "ok": true,
       "status": 200,
       "status_text": ""
      }
     }
    },
    "executionInfo": {
     "elapsed": 34876,
     "status": "ok",
     "timestamp": 1611588862842,
     "user": {
      "displayName": "Ivan Olier",
      "photoUrl": "https://lh3.googleusercontent.com/a-/AOh14Ghhc43rCdJQCTYC4YLpmINvtt8oV3l1YxXoQwMIxA=s64",
      "userId": "02135770244195566463"
     },
     "user_tz": 0
    },
    "id": "h1mERqA3CoJz",
    "outputId": "68126ccf-2bb5-4b9c-c1ad-27b7e6490764"
   },
   "outputs": [],
   "source": [
    "# Option 2\n",
    "#from google.colab import files\n",
    "#uploaded = files.upload()\n",
    "#import io\n",
    "#dset = pd.read_csv(io.BytesIO(uploaded['diabetes.csv']))\n",
    "#dset.head()"
   ]
  },
  {
   "cell_type": "code",
   "execution_count": null,
   "metadata": {
    "colab": {
     "base_uri": "https://localhost:8080/"
    },
    "executionInfo": {
     "elapsed": 735,
     "status": "ok",
     "timestamp": 1611588879862,
     "user": {
      "displayName": "Ivan Olier",
      "photoUrl": "https://lh3.googleusercontent.com/a-/AOh14Ghhc43rCdJQCTYC4YLpmINvtt8oV3l1YxXoQwMIxA=s64",
      "userId": "02135770244195566463"
     },
     "user_tz": 0
    },
    "id": "X3dKGNWSTy8d",
    "outputId": "f91751a5-daa6-4d2e-a12d-4d99a7db6707"
   },
   "outputs": [],
   "source": [
    "dset.shape    # returns data dimensionality"
   ]
  },
  {
   "cell_type": "code",
   "execution_count": null,
   "metadata": {
    "colab": {
     "base_uri": "https://localhost:8080/",
     "height": 297
    },
    "executionInfo": {
     "elapsed": 534,
     "status": "ok",
     "timestamp": 1611093665389,
     "user": {
      "displayName": "Ivan Olier",
      "photoUrl": "https://lh3.googleusercontent.com/a-/AOh14Ghhc43rCdJQCTYC4YLpmINvtt8oV3l1YxXoQwMIxA=s64",
      "userId": "02135770244195566463"
     },
     "user_tz": 0
    },
    "id": "D3M6VN3qTy8e",
    "outputId": "bea7ebb5-73a0-40b0-ab24-62edc237ad2c"
   },
   "outputs": [],
   "source": [
    "dset.describe()   # shows some basic statistics"
   ]
  },
  {
   "cell_type": "code",
   "execution_count": null,
   "metadata": {
    "colab": {
     "base_uri": "https://localhost:8080/",
     "height": 607
    },
    "executionInfo": {
     "elapsed": 2028,
     "status": "ok",
     "timestamp": 1611093668826,
     "user": {
      "displayName": "Ivan Olier",
      "photoUrl": "https://lh3.googleusercontent.com/a-/AOh14Ghhc43rCdJQCTYC4YLpmINvtt8oV3l1YxXoQwMIxA=s64",
      "userId": "02135770244195566463"
     },
     "user_tz": 0
    },
    "id": "BLZPqmF9Ty8e",
    "outputId": "62d7ae88-80f1-4363-f104-ca7d5447bee5"
   },
   "outputs": [],
   "source": [
    "plot1 = dset.hist(figsize=[10,10])    # displays histograms of the DataFrame columns"
   ]
  },
  {
   "cell_type": "markdown",
   "metadata": {
    "id": "PxHNFyW7llFx"
   },
   "source": [
    "* are there any issues with the *diabetes* dataset?"
   ]
  },
  {
   "cell_type": "code",
   "execution_count": null,
   "metadata": {
    "colab": {
     "base_uri": "https://localhost:8080/",
     "height": 297
    },
    "executionInfo": {
     "elapsed": 540,
     "status": "ok",
     "timestamp": 1611093674355,
     "user": {
      "displayName": "Ivan Olier",
      "photoUrl": "https://lh3.googleusercontent.com/a-/AOh14Ghhc43rCdJQCTYC4YLpmINvtt8oV3l1YxXoQwMIxA=s64",
      "userId": "02135770244195566463"
     },
     "user_tz": 0
    },
    "id": "k-QEPZYcTy8f",
    "outputId": "c518d3e0-3e2d-4dd6-b9b9-00c8dffa3bef"
   },
   "outputs": [],
   "source": [
    "# Use `replace` to replace values in the columns. Here we replace any \"0\" by \"NaN\" (not a number - which represents missing values in Python)\n",
    "dset = dset.replace({'BMI' : 0, 'BloodPressure' : 0, 'Glucose' : 0, 'Insulin' : 0, 'SkinThickness' : 0}, np.nan)\n",
    "dset.describe()"
   ]
  },
  {
   "cell_type": "code",
   "execution_count": null,
   "metadata": {
    "colab": {
     "base_uri": "https://localhost:8080/"
    },
    "executionInfo": {
     "elapsed": 597,
     "status": "ok",
     "timestamp": 1611093676247,
     "user": {
      "displayName": "Ivan Olier",
      "photoUrl": "https://lh3.googleusercontent.com/a-/AOh14Ghhc43rCdJQCTYC4YLpmINvtt8oV3l1YxXoQwMIxA=s64",
      "userId": "02135770244195566463"
     },
     "user_tz": 0
    },
    "id": "bkSyv-KlTy8g",
    "outputId": "4b4b6d6f-8839-4845-eaab-ef9c559b7ca0"
   },
   "outputs": [],
   "source": [
    "dset.isna().sum()     # shows the number of missings per column"
   ]
  },
  {
   "cell_type": "code",
   "execution_count": null,
   "metadata": {
    "colab": {
     "base_uri": "https://localhost:8080/",
     "height": 297
    },
    "executionInfo": {
     "elapsed": 517,
     "status": "ok",
     "timestamp": 1611093677748,
     "user": {
      "displayName": "Ivan Olier",
      "photoUrl": "https://lh3.googleusercontent.com/a-/AOh14Ghhc43rCdJQCTYC4YLpmINvtt8oV3l1YxXoQwMIxA=s64",
      "userId": "02135770244195566463"
     },
     "user_tz": 0
    },
    "id": "_nvjYEHzTy8g",
    "outputId": "1274aac4-a348-4bdb-8cfc-9841ec704aef"
   },
   "outputs": [],
   "source": [
    "dset = dset.dropna()    # drops rows with missing values\n",
    "dset.describe()"
   ]
  },
  {
   "cell_type": "markdown",
   "metadata": {
    "id": "F3SvM0pgmodY"
   },
   "source": [
    "* Now we could say the data is ready for use."
   ]
  },
  {
   "cell_type": "markdown",
   "metadata": {
    "id": "HBls-nthTy8l"
   },
   "source": [
    "### Using the `sklearn` library\n",
    "*scikit-learn* library or \"sklearn\", in short, is the most popular library for machine learning modelling in Python. \n",
    "Please, follow this link for it official documentation: https://scikit-learn.org/stable/\n",
    "\n",
    "We will use the library for most of the *Data Mining* module. In this tutorial, it will be used for modelling the *diabetes* data with Logistic Regression and for model evaluation.\n",
    "\n",
    "In the following steps, we will:\n",
    "\n",
    "1. split the data into a traning and a test subset.\n",
    "2. train a logistic regression model using the training subset.\n",
    "3. predict new outputs (classes and class probabilities) using the test subset.\n",
    "4. evaluate the model performance\n"
   ]
  },
  {
   "cell_type": "code",
   "execution_count": null,
   "metadata": {
    "id": "e7qPrelGTy8m"
   },
   "outputs": [],
   "source": [
    "from sklearn.model_selection import train_test_split      # imports function to splits the data\n",
    "X_train, X_test, y_train, y_test = train_test_split(dset.drop('Outcome', axis=1), dset['Outcome'], test_size=0.3, random_state=123)  # splits 70% training, 30% test"
   ]
  },
  {
   "cell_type": "code",
   "execution_count": null,
   "metadata": {
    "id": "MvU0f21UTy8n"
   },
   "outputs": [],
   "source": [
    "from sklearn.linear_model import LogisticRegression   # imports the logistic regression module implemented in sklearn"
   ]
  },
  {
   "cell_type": "code",
   "execution_count": null,
   "metadata": {
    "id": "zFnTI8dRTy8n"
   },
   "outputs": [],
   "source": [
    "mdl = LogisticRegression(max_iter = 1000)    # sets up the algorithm (or learner)"
   ]
  },
  {
   "cell_type": "code",
   "execution_count": null,
   "metadata": {
    "colab": {
     "base_uri": "https://localhost:8080/"
    },
    "executionInfo": {
     "elapsed": 521,
     "status": "ok",
     "timestamp": 1611094011883,
     "user": {
      "displayName": "Ivan Olier",
      "photoUrl": "https://lh3.googleusercontent.com/a-/AOh14Ghhc43rCdJQCTYC4YLpmINvtt8oV3l1YxXoQwMIxA=s64",
      "userId": "02135770244195566463"
     },
     "user_tz": 0
    },
    "id": "2WPuS25hTy8n",
    "outputId": "5122f264-08f4-46dd-9eb8-fa1240787cf5"
   },
   "outputs": [],
   "source": [
    "mdl.fit(X_train, y_train)       # trains the model using the training set"
   ]
  },
  {
   "cell_type": "code",
   "execution_count": null,
   "metadata": {
    "colab": {
     "base_uri": "https://localhost:8080/"
    },
    "executionInfo": {
     "elapsed": 590,
     "status": "ok",
     "timestamp": 1611094015858,
     "user": {
      "displayName": "Ivan Olier",
      "photoUrl": "https://lh3.googleusercontent.com/a-/AOh14Ghhc43rCdJQCTYC4YLpmINvtt8oV3l1YxXoQwMIxA=s64",
      "userId": "02135770244195566463"
     },
     "user_tz": 0
    },
    "id": "7yeoD8ZpTy8o",
    "outputId": "375ed95f-530e-42b3-d785-fcaf957c7021"
   },
   "outputs": [],
   "source": [
    "mdl.coef_       # shows the learnt coefficients (or betas)"
   ]
  },
  {
   "cell_type": "code",
   "execution_count": null,
   "metadata": {
    "id": "B-p2DnkATy8o"
   },
   "outputs": [],
   "source": [
    "y_class = mdl.predict(X_test)     # predicts new classes using the test set "
   ]
  },
  {
   "cell_type": "code",
   "execution_count": null,
   "metadata": {
    "colab": {
     "base_uri": "https://localhost:8080/"
    },
    "executionInfo": {
     "elapsed": 499,
     "status": "ok",
     "timestamp": 1611094031167,
     "user": {
      "displayName": "Ivan Olier",
      "photoUrl": "https://lh3.googleusercontent.com/a-/AOh14Ghhc43rCdJQCTYC4YLpmINvtt8oV3l1YxXoQwMIxA=s64",
      "userId": "02135770244195566463"
     },
     "user_tz": 0
    },
    "id": "rcB462URTy8o",
    "outputId": "4690e991-5f52-4e77-fd6c-4c0e56438a2b"
   },
   "outputs": [],
   "source": [
    "y_class"
   ]
  },
  {
   "cell_type": "code",
   "execution_count": null,
   "metadata": {
    "colab": {
     "base_uri": "https://localhost:8080/"
    },
    "executionInfo": {
     "elapsed": 519,
     "status": "ok",
     "timestamp": 1611094034156,
     "user": {
      "displayName": "Ivan Olier",
      "photoUrl": "https://lh3.googleusercontent.com/a-/AOh14Ghhc43rCdJQCTYC4YLpmINvtt8oV3l1YxXoQwMIxA=s64",
      "userId": "02135770244195566463"
     },
     "user_tz": 0
    },
    "id": "7DMgjW6OTy8t",
    "outputId": "72c84c77-9cba-49bc-8023-42c28d1be991"
   },
   "outputs": [],
   "source": [
    "y_prob = mdl.predict_proba(X_test)    # predicts class probabilities \n",
    "y_prob[0:10,]     # the output is a 2-col array: one for each class"
   ]
  },
  {
   "cell_type": "markdown",
   "metadata": {},
   "source": [
    "**Note: the below code might not work if you have an early version of *scikit-learn*. If fails, please have a look at the code in comments.**"
   ]
  },
  {
   "cell_type": "code",
   "execution_count": null,
   "metadata": {},
   "outputs": [],
   "source": [
    "from sklearn.metrics import RocCurveDisplay\n",
    "RocCurveDisplay.from_predictions(y_test, y_prob[:,1])"
   ]
  },
  {
   "cell_type": "markdown",
   "metadata": {},
   "source": [
    "`RocCurveDisplay.from_predictions` takes the true labels (`y_test`) and the predicted probabilities of the class 1. Note that `y_prob` is a 2D matrix. The first column (i.e. column 0) contains the probabilities of being the class 0, whilst the second column (i.e. column 1), the class 1, which is the one of interest."
   ]
  },
  {
   "cell_type": "code",
   "execution_count": null,
   "metadata": {},
   "outputs": [],
   "source": [
    "## If above code fails due to version compatibilities, then you can try the following code:\n",
    "\n",
    "# from sklearn.metrics import roc_curve, auc\n",
    "# fpr, tpr, thres = roc_curve(y_test, y_prob[:,1])\n",
    "# auc_score = auc(fpr, tpr)\n",
    "# plt.figure()\n",
    "# plt.plot(fpr, tpr, label=\"ROC curve (area = %0.2f)\" % auc_score)\n",
    "# plt.xlim([0.0, 1.0])\n",
    "# plt.ylim([0.0, 1.0])\n",
    "# plt.xlabel(\"False Positive Rate\")\n",
    "# plt.ylabel(\"True Positive Rate\")\n",
    "# plt.legend(loc=\"lower right\")\n",
    "# plt.show()"
   ]
  },
  {
   "cell_type": "code",
   "execution_count": null,
   "metadata": {},
   "outputs": [],
   "source": [
    "from sklearn.metrics import PrecisionRecallDisplay\n",
    "PrecisionRecallDisplay.from_predictions(y_test, y_prob[:,1])"
   ]
  },
  {
   "cell_type": "code",
   "execution_count": null,
   "metadata": {
    "id": "qCF4_XpYwKX4"
   },
   "outputs": [],
   "source": [
    "# computes TPR, FPR, and thresholds\n",
    "from sklearn.metrics import roc_curve\n",
    "fpr, tpr, thresholds = roc_curve(y_test, y_prob[:,1])\n"
   ]
  },
  {
   "cell_type": "code",
   "execution_count": null,
   "metadata": {
    "colab": {
     "base_uri": "https://localhost:8080/"
    },
    "executionInfo": {
     "elapsed": 468,
     "status": "ok",
     "timestamp": 1611095300794,
     "user": {
      "displayName": "Ivan Olier",
      "photoUrl": "https://lh3.googleusercontent.com/a-/AOh14Ghhc43rCdJQCTYC4YLpmINvtt8oV3l1YxXoQwMIxA=s64",
      "userId": "02135770244195566463"
     },
     "user_tz": 0
    },
    "id": "JQKqDhEbTy8w",
    "outputId": "1a6006d9-5405-4a19-f7b4-7b9f9af62d87"
   },
   "outputs": [],
   "source": [
    "optim_th = thresholds[np.argmax(tpr-fpr)] # takes the one with maximal sum of true positive and true negative rates (1-fpr)\n",
    "optim_th"
   ]
  },
  {
   "cell_type": "code",
   "execution_count": null,
   "metadata": {
    "colab": {
     "base_uri": "https://localhost:8080/"
    },
    "executionInfo": {
     "elapsed": 563,
     "status": "ok",
     "timestamp": 1611095312379,
     "user": {
      "displayName": "Ivan Olier",
      "photoUrl": "https://lh3.googleusercontent.com/a-/AOh14Ghhc43rCdJQCTYC4YLpmINvtt8oV3l1YxXoQwMIxA=s64",
      "userId": "02135770244195566463"
     },
     "user_tz": 0
    },
    "id": "3auV4SVQTy8w",
    "outputId": "644a5fed-77e7-42c3-8bba-c46d9c74a4a4"
   },
   "outputs": [],
   "source": [
    "y_class_opt = np.where(y_prob[:,1] > optim_th, 1, 0)\n",
    "y_class_opt"
   ]
  },
  {
   "cell_type": "code",
   "execution_count": null,
   "metadata": {
    "colab": {
     "base_uri": "https://localhost:8080/"
    },
    "executionInfo": {
     "elapsed": 479,
     "status": "ok",
     "timestamp": 1611095318681,
     "user": {
      "displayName": "Ivan Olier",
      "photoUrl": "https://lh3.googleusercontent.com/a-/AOh14Ghhc43rCdJQCTYC4YLpmINvtt8oV3l1YxXoQwMIxA=s64",
      "userId": "02135770244195566463"
     },
     "user_tz": 0
    },
    "id": "tkIsTn1qTy8x",
    "outputId": "eeff1dd7-54dc-4f05-b097-28ee010dc54e"
   },
   "outputs": [],
   "source": [
    "#Accuracy:\n",
    "from sklearn.metrics import accuracy_score\n",
    "accuracy_score(y_true=y_test, y_pred=y_class_opt)"
   ]
  },
  {
   "cell_type": "code",
   "execution_count": null,
   "metadata": {
    "colab": {
     "base_uri": "https://localhost:8080/",
     "height": 279
    },
    "executionInfo": {
     "elapsed": 760,
     "status": "ok",
     "timestamp": 1611095545910,
     "user": {
      "displayName": "Ivan Olier",
      "photoUrl": "https://lh3.googleusercontent.com/a-/AOh14Ghhc43rCdJQCTYC4YLpmINvtt8oV3l1YxXoQwMIxA=s64",
      "userId": "02135770244195566463"
     },
     "user_tz": 0
    },
    "id": "1ghMNtuBTy8x",
    "outputId": "f74278c8-9a7a-4ec7-8248-c9b6d6d0e6c2"
   },
   "outputs": [],
   "source": [
    "# Confusion matrix:\n",
    "from sklearn.metrics import confusion_matrix, ConfusionMatrixDisplay\n",
    "cm = confusion_matrix(y_true=y_test, y_pred=y_class_opt)\n",
    "cm_display = ConfusionMatrixDisplay(confusion_matrix=cm, display_labels=mdl.classes_).plot()"
   ]
  },
  {
   "cell_type": "markdown",
   "metadata": {
    "id": "vRvAL5zp083x"
   },
   "source": [
    "## Exercise 4\n",
    "Repeat a similar analysis, but now using the “SAheart” dataset instead. The dataset is available on:\n",
    "https://raw.githubusercontent.com/iaolier/7021DATSCI/main/data/SAheart.csv \n",
    "\n",
    "The South African Heart dataset (SAHeart): The dataset is publicly available, just type its name in Google. The dataset is a retrospective sample of males in a heart-disease high-risk region of the Western Cape, South Africa. There are roughly two controls per case of Coronary Heart Disease (CHD). Many of the CHD positive men have undergone blood pressure reduction treatment and other programs to reduce their risk factors after their CHD event. In some cases the measurements were made after these treatments. These data are taken from a larger dataset, described in Rousseauw et al, 1983, South African Medical Journal.\n",
    "This is the set of variables in the dataset:\n",
    "\n",
    "- sbp - systolic blood pressure\n",
    "- tobacco - cumulative tobacco (kg)\n",
    "- ldl - low densiity lipoprotein cholesterol\n",
    "- adiposity\n",
    "- famhist - family history of heart disease (Present, Absent)\n",
    "- typea - type-A behavior\n",
    "- obesity\n",
    "- alcohol - current alcohol consumption\n",
    "- age - age at onset\n",
    "- chd - response, coronary heart disease\n",
    "\n",
    "The aim is to predict the risk of CHD as a function of the other variables. This is essentially a classification task with two classes: CHD/No CHD (coded as 1 and 0, respectively).\n",
    "\n"
   ]
  },
  {
   "cell_type": "code",
   "execution_count": null,
   "metadata": {
    "id": "1-O5k-Ma1LUB"
   },
   "outputs": [],
   "source": [
    "# Your answer here"
   ]
  }
 ],
 "metadata": {
  "colab": {
   "collapsed_sections": [],
   "name": "tutorial01.ipynb",
   "provenance": []
  },
  "kernelspec": {
   "display_name": "Python 3",
   "language": "python",
   "name": "python3"
  },
  "language_info": {
   "codemirror_mode": {
    "name": "ipython",
    "version": 3
   },
   "file_extension": ".py",
   "mimetype": "text/x-python",
   "name": "python",
   "nbconvert_exporter": "python",
   "pygments_lexer": "ipython3",
   "version": "3.9.7"
  }
 },
 "nbformat": 4,
 "nbformat_minor": 1
}
